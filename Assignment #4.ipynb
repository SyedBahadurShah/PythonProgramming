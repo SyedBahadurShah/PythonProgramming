{
 "cells": [
  {
   "cell_type": "markdown",
   "metadata": {},
   "source": [
    "### Python Programming - Assignment #4"
   ]
  },
  {
   "cell_type": "code",
   "execution_count": 1,
   "metadata": {},
   "outputs": [
    {
     "name": "stdout",
     "output_type": "stream",
     "text": [
      "Friend #1 - Full Name : Salman Arain, Age: 23, City: Shikarpur\n",
      "Friend #2 - Full Name : Fareed Shaikh, Age: 25, City: Shikarpur\n",
      "Friend #3 - Full Name : Mohsin Sultan, Age: 23, City: Karachi\n",
      "Friend #4 - Full Name : Farhan Shah, Age: 23, City: Shikarpur\n",
      "Friend #5 - Full Name : Ahsan Pathan, Age: 22, City: Karachi\n",
      "\n",
      "\n",
      "Friend #1 - Full Name : Salman Arain, Qualification : Bachelors, Age: 23, City: Shikarpur\n",
      "Friend #2 - Full Name : Fareed Shaikh, Qualification : Bachelors, Age: 25, City: Shikarpur\n",
      "Friend #3 - Full Name : Mohsin Sultan, Qualification : Masters, Age: 23, City: Karachi\n",
      "Friend #4 - Full Name : Farhan Shah, Qualification : Bachelors, Age: 23, City: Shikarpur\n",
      "Friend #5 - Full Name : Ahsan Pathan, Qualification : Intermediate, Age: 22, City: Karachi\n",
      "\n",
      "\n",
      "Friend #1 - Full Name : Salman Arain, Age: 23, City: Shikarpur\n",
      "Friend #2 - Full Name : Fareed Shaikh, Age: 25, City: Shikarpur\n",
      "Friend #3 - Full Name : Mohsin Sultan, Age: 23, City: Karachi\n",
      "Friend #4 - Full Name : Farhan Shah, Age: 23, City: Shikarpur\n",
      "Friend #5 - Full Name : Ahsan Pathan, Age: 22, City: Karachi\n"
     ]
    }
   ],
   "source": [
    "# Question #1 : \n",
    "# Use a dictionary to store information about a person you know. Store their first name, last name, age,\n",
    "# and the city in which they live. You should have keys such as first_name, last_name, age, and city. Print\n",
    "# each piece of information stored in your dictionary. Add a new key value pair about qualification then\n",
    "# update the qualification value to high academic level then delete it.\n",
    "\n",
    "friendsDictionary = {\n",
    "    1 : {'first_name' : 'Salman', 'last_name' : 'Arain', 'age' : 23, 'city' : 'Shikarpur'},\n",
    "    2 : {'first_name' : 'Fareed', 'last_name' : 'Shaikh', 'age' : 25, 'city' : 'Shikarpur'},\n",
    "    3 : {'first_name' : 'Mohsin', 'last_name' : 'Sultan', 'age' : 23, 'city' : 'Karachi'},\n",
    "    4 : {'first_name' : 'Farhan', 'last_name' : 'Shah', 'age' : 23, 'city' : 'Shikarpur'},\n",
    "    5 : {'first_name' : 'Ahsan', 'last_name' : 'Pathan', 'age' : 22, 'city' : 'Karachi'}\n",
    "}\n",
    "\n",
    "# Printing Friends Dictionary \n",
    "for key, friend in friendsDictionary.items():\n",
    "    print(\"Friend #{} - Full Name : {} {}, Age: {}, City: {}\".format(key, friend['first_name'], friend['last_name'], friend['age'], friend['city']))\n",
    "\n",
    "# Adding New Key Pair of Qualification into Friends Dictionary \n",
    "for key in friendsDictionary.keys():\n",
    "    friendsDictionary[key].update({'qualification' : ''})\n",
    "    \n",
    "# Upading New Key Pair \"Qualification\" with High Level Education\n",
    "friendsDictionary[1].update({'qualification' : 'Bachelors'}) # Updating Salman's Qualification\n",
    "friendsDictionary[2].update({'qualification' : 'Bachelors'})  # Updating Fareed's Qualification\n",
    "friendsDictionary[3].update({'qualification' : 'Masters'})  # Updating Mohsin's Qualification\n",
    "friendsDictionary[4].update({'qualification' : 'Bachelors'})  # Updating Farhan's Qualification\n",
    "friendsDictionary[5].update({'qualification' : 'Intermediate'})  # Updating Ahsan's Qualification)\n",
    "print(\"\\n\") # For New Line\n",
    "\n",
    "# Printing Friends Dictionary After Adding New Key Pair Qualification\n",
    "for key, friend in friendsDictionary.items():\n",
    "    print(\"Friend #{} - Full Name : {} {}, Qualification : {}, Age: {}, City: {}\".format(key, friend['first_name'], friend['last_name'], friend['qualification'], friend['age'], friend['city']))\n",
    "\n",
    "# Deleting Qualification Key Pair from Friends Dictionary\n",
    "for key, friend in friendsDictionary.items():\n",
    "    friendsDictionary[key].pop('qualification')\n",
    "    \n",
    "print(\"\\n\") # For New Line\n",
    "# Printing Friends Dictionary After Deleting Qualification Key Pair\n",
    "for key, friend in friendsDictionary.items():\n",
    "    print(\"Friend #{} - Full Name : {} {}, Age: {}, City: {}\".format(key, friend['first_name'], friend['last_name'], friend['age'], friend['city']))\n",
    "\n"
   ]
  },
  {
   "cell_type": "code",
   "execution_count": 2,
   "metadata": {},
   "outputs": [
    {
     "name": "stdout",
     "output_type": "stream",
     "text": [
      "Karachi is in Pakistan. It has population of 15,741,000.\n",
      "Karachi is the sixth largest city in the world by city population.\n",
      "\n",
      "New York is in United State. It has population of 16,760,000.\n",
      "New York city became the first capital of the United States in 1789.\n",
      "\n",
      "Beijing is in China. It has population of 21,942,400.\n",
      "Beijing is the second largest city in China..\n",
      "\n"
     ]
    }
   ],
   "source": [
    "# Question #2 :\n",
    "# Make a dictionary called cities. Use the names of three cities as keys in your dictionary. Create a\n",
    "# dictionary of information about each city and include the country that the city is in, its approximate\n",
    "# population, and one fact about that city. The keys for each city’s dictionary should be something like\n",
    "# country, population, and fact. Print the name of each city and all of the information you have stored\n",
    "# about it.\n",
    "\n",
    "# Creating Cities Dictionary with Some Data\n",
    "citiesDictionary = {\n",
    "    \"Karachi\" : {\n",
    "        'country' : 'Pakistan',\n",
    "        'population' : '15,741,000',\n",
    "        'fact' : 'Karachi is the sixth largest city in the world by city population'\n",
    "    }, \n",
    "    \"New York\" : {\n",
    "        'country' : 'United State',\n",
    "        'population' : '16,760,000',\n",
    "        'fact' : 'New York city became the first capital of the United States in 1789'\n",
    "    }, \n",
    "    \"Beijing\" : {\n",
    "        'country' : 'China',\n",
    "        'population' : '21,942,400',\n",
    "        'fact' : 'Beijing is the second largest city in China.'        \n",
    "    }\n",
    "}\n",
    "\n",
    "# Printing Cities Dictionary\n",
    "for cityName, cityInfo in citiesDictionary.items():\n",
    "    print(\"{} is in {}. It has population of {}.\\n{}.\\n\".format(cityName, cityInfo['country'], cityInfo['population'], cityInfo['fact']))"
   ]
  },
  {
   "cell_type": "code",
   "execution_count": 3,
   "metadata": {},
   "outputs": [
    {
     "name": "stdout",
     "output_type": "stream",
     "text": [
      "[-] Please Enter Your Age: 15\n",
      "[+] Your Ticket Price: $15\n",
      "\n",
      "[-] Please Enter Your Age: 0\n",
      "[+] Sorry! You Aren't Born Yet!\n"
     ]
    }
   ],
   "source": [
    "# Question #3 :\n",
    "# A movie theater charges different ticket prices depending on a person’s age. If a person is under the age\n",
    "# of 3, the ticket is free; if they are between 3 and 12, the ticket is $10; and if they are over age 12, the\n",
    "# ticket is $15. Write a loop in which you ask users their age, and then tell them the cost of their movie\n",
    "# ticket.\n",
    "\n",
    "# isInteger is Used to Check Whether Input Value Can Be Type Cast to Integer or Not\n",
    "def isInteger(inputValue):\n",
    "    try: \n",
    "        int(inputValue)\n",
    "        return True\n",
    "    except ValueError:\n",
    "        return False\n",
    "\n",
    "while (True): # Looping Till Break!\n",
    "    \n",
    "    age = input(\"[-] Please Enter Your Age: \") # Getting Age as Input from User and Type Casting into Integer!\n",
    "    \n",
    "    if isInteger(age) == True: # Checking Whether User Age Input Can Be Type Cast into Integer or Not\n",
    "        \n",
    "        age = int(age) # Type Casting Age into Integer\n",
    "        \n",
    "        if age == 0: # If Age is 0, than Break this While Loop\n",
    "            print(\"[+] Sorry! You Aren't Born Yet!\") # And Show the Message!\n",
    "            break; # Breaking Out of Loop\n",
    "\n",
    "        if age < 3: # If User Age is Less Than 3 Years\n",
    "            print(\"[+] Hurry! Your Got Movie Ticket of FREE.\\n\") # Offer them FREE Movie Ticket!\n",
    "\n",
    "        if age >= 3 and age <= 12: # If User Age is Between 3 and 12\n",
    "            print(\"[+] Your Ticket Price: $10\\n\") # Than Show the Ticket Price of Dollar 10!\n",
    "\n",
    "        if age > 12:# If User Age is Greater than 12 Years\n",
    "            print(\"[+] Your Ticket Price: $15\\n\") # Show the Ticket Price of Dollar 15!\n",
    "            \n",
    "    else:\n",
    "        \n",
    "        print(\"[-] Please Enter Your Age in Integer Format Only!\\n\") # And Show the Message!\n",
    "        \n",
    "        "
   ]
  },
  {
   "cell_type": "code",
   "execution_count": 4,
   "metadata": {},
   "outputs": [
    {
     "name": "stdout",
     "output_type": "stream",
     "text": [
      "One of my favorite books is Python Programming.\n",
      "One of my favorite books is Python Code Techniques.\n"
     ]
    }
   ],
   "source": [
    "# Question #4 :\n",
    "# Write a function called favorite_book() that accepts one parameter, title. The function should print a\n",
    "# message, such as One of my favorite books is Alice in Wonderland. Call the function, making sure to\n",
    "# include a book title as an argument in the function call.\n",
    "\n",
    "def favoriteBook(bookTitle):\n",
    "    print(\"One of my favorite books is {}.\".format(bookTitle))\n",
    "\n",
    "favoriteBook(\"Python Programming\")\n",
    "favoriteBook(\"Python Code Techniques\")\n"
   ]
  },
  {
   "cell_type": "code",
   "execution_count": 5,
   "metadata": {},
   "outputs": [
    {
     "name": "stdout",
     "output_type": "stream",
     "text": [
      "--------------------------\n",
      "  Guess the Number Game\n",
      "--------------------------\n",
      "\n",
      "[-] Guess the hidden number: 16\n",
      "[-] HINT: Hidden number is grater than 16, try again 2 chances left!\n",
      "\n",
      "[-] Guess the hidden number: 20\n",
      "[-] HINT: Hidden number is grater than 20, try again 1 chance left!\n",
      "\n",
      "[-] Guess the hidden number: 22\n",
      "[+] Oops! You lost your changes! better luck next time.\n"
     ]
    }
   ],
   "source": [
    "# Question #5:\n",
    "# Guess the number game\n",
    "# Write a program which randomly generate a number between 1 to 30 and ask the user in input field to\n",
    "# guess the correct number. Give three chances to user guess the number and also give hint to user if\n",
    "# hidden number is greater or smaller than the number he given to input field.\n",
    "\n",
    "from random import randint # Importing \"randint\" from \"random\" (Builtint Python Package)\n",
    "randomNumber = randint(1, 30) # Generating Random Number Between the Range of 1 and 30\n",
    "\n",
    "\n",
    "# isInteger is Used to Check Whether Input Value Can Be Type Cast to Integer or Not\n",
    "def isInteger(inputValue):\n",
    "    try: \n",
    "        int(inputValue)\n",
    "        return True\n",
    "    except ValueError:\n",
    "        return False\n",
    "\n",
    "# Guess the Number Game Define\n",
    "def guessTheNumberGame():\n",
    "    \n",
    "    print(\"--------------------------\\n  Guess the Number Game\\n--------------------------\\n\") # Title of Game\n",
    "    chances = 3 # Variable for Counting Number of Chances Left\n",
    "    \n",
    "    while (chances != 0): # Loop Till No Chances Left\n",
    "        \n",
    "        guessedNumber = input(\"[-] Guess the hidden number: \") # Getting Input from User!\n",
    "\n",
    "        if isInteger(guessedNumber) != True: # Cheking Whether this Input Can Type Cast into Integer or Not\n",
    "            print(\"[-] Please try with positive integer only!\\n\") # If Not Than Showing the Message to Input Positive Integer Only!\n",
    "            continue # And Continue Loop Again without Decreament in Chances Variable\n",
    "        else:\n",
    "            guessedNumber = int(guessedNumber) # Else Type Casting Input into Integer\n",
    "            chances = chances - 1 # And Decreament by 1 from Chances Variable!\n",
    "\n",
    "        if chances > 1: # If Remaining Chances are More Than 1\n",
    "            chancesWord = \"chances\" # Than Use Plular Word \"Chances\" for Message!\n",
    "        else: # Else\n",
    "            chancesWord = \"chance\" # Else Show the Singular Word \"Chance\" for Message!\n",
    "\n",
    "        if randomNumber == guessedNumber and chances != 0: # If Guessed Number is Equal to Hidden/Random Number and Few Chances Left\n",
    "            if chances == 2: # Than Check for Chances are Equal to 2\n",
    "                print(\"[+] Hurry! you got correct in first attempt!\") # If Yes Than Show the Message \"Hurry! You got it correct in first attempt!\" \n",
    "            elif chances == 1: # If There is 1 Remaining Chance \n",
    "                print(\"[+] Hurry! you got correct!\") # Show the Message without \"in first attempt!\"\n",
    "            break # And After All Break the While Loop\n",
    "\n",
    "        if chances > 0: # But, If Chances are Greater than 0\n",
    "            if randomNumber > guessedNumber: # If Hidden/Random Number is Grater than Guessed Number\n",
    "                print(\"[-] HINT: Hidden number is grater than {}, try again {} {} left!\\n\".format(guessedNumber, chances, chancesWord)) # Show the Hint and Remaining Chances\n",
    "\n",
    "            if randomNumber < guessedNumber: # If Hidden/Random Number is Smaller than Guessed Number\n",
    "                print(\"[-] Hidden number is smaller than {}, try again {} {} left!\\n\".format(guessedNumber, chances, chancesWord)) # Show the Hint and Remaining Chances\n",
    "        else: # If There is Not Chance Left\n",
    "            print(\"[+] Oops! You lost your chances! better luck next time.\") # Show the \"Game Over\" Message!\n",
    "\n",
    "# Calling guessTheNumberGame Define\n",
    "guessTheNumberGame()"
   ]
  },
  {
   "cell_type": "code",
   "execution_count": null,
   "metadata": {},
   "outputs": [],
   "source": []
  }
 ],
 "metadata": {
  "kernelspec": {
   "display_name": "Python 3",
   "language": "python",
   "name": "python3"
  },
  "language_info": {
   "codemirror_mode": {
    "name": "ipython",
    "version": 3
   },
   "file_extension": ".py",
   "mimetype": "text/x-python",
   "name": "python",
   "nbconvert_exporter": "python",
   "pygments_lexer": "ipython3",
   "version": "3.7.4"
  }
 },
 "nbformat": 4,
 "nbformat_minor": 2
}
