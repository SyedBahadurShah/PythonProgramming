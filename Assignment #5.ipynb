{
 "cells": [
  {
   "cell_type": "markdown",
   "metadata": {},
   "source": [
    "### Python Programming - Assignment #5"
   ]
  },
  {
   "cell_type": "code",
   "execution_count": 7,
   "metadata": {},
   "outputs": [
    {
     "name": "stdout",
     "output_type": "stream",
     "text": [
      "Result of Factorial !6 is 720\n"
     ]
    }
   ],
   "source": [
    "# Question #1\n",
    "# Write a Python function to calculate the factorial of a number (a non-negative integer). The function accepts the number as an argument.\n",
    "\n",
    "# Factorial Function\n",
    "def factorial(number):\n",
    "    if number == 1:\n",
    "        return 1\n",
    "    else:\n",
    "        return number * factorial(number - 1)\n",
    "    \n",
    "number = 6\n",
    "result = factorial(number)\n",
    "print(\"Result of Factorial !{} is {}\".format(number, result))"
   ]
  },
  {
   "cell_type": "code",
   "execution_count": 2,
   "metadata": {},
   "outputs": [
    {
     "name": "stdout",
     "output_type": "stream",
     "text": [
      "Name 'Syed Bahadur Shah' Contain 3 Uppercase Letters and 12 Lowercase Letters!\n"
     ]
    }
   ],
   "source": [
    "# Question #2\n",
    "# Write a Python function that accepts a string and calculate the number of uppercase letters and lowercase letters.\n",
    "\n",
    "def caseCalculator(string):\n",
    "    \n",
    "    upperCaseLetters = 0 # Counter for Uppercase Letters\n",
    "    lowerCaseLetters = 0 # Counter for Lowercase Letters\n",
    "    \n",
    "    for letter in string: # Traversing Each Letter of String\n",
    "\n",
    "        if letter.isupper() == True: # Checking Wheter Letter is Uppercase or Not\n",
    "            upperCaseLetters += 1 # If Yes Increamenting in Uppercase Counter\n",
    "            \n",
    "        if letter.islower() == True: # Checking Wheter Letter is Lowercase or Not\n",
    "            lowerCaseLetters += 1 # If Yes Increamenting in Lowercase Counter\n",
    "            \n",
    "    return upperCaseLetters, lowerCaseLetters # Return Both Upper & Lower Case Counters!\n",
    "\n",
    "string = \"Syed Bahadur Shah\" # Example String\n",
    "upperCaseLetters, lowerCaseLetters = caseCalculator(string) # Calling caseCalculator() for Upper & Lower Case Count!\n",
    "print(\"Name '{}' Contain {} Uppercase Letters and {} Lowercase Letters!\".format(string, upperCaseLetters, lowerCaseLetters)) # Printing Results!"
   ]
  },
  {
   "cell_type": "code",
   "execution_count": 3,
   "metadata": {},
   "outputs": [
    {
     "name": "stdout",
     "output_type": "stream",
     "text": [
      "List of Even Number\n",
      "--------------------------\n",
      "[2, 10, 32, 5332, 32, 124]\n"
     ]
    }
   ],
   "source": [
    "# Question #3\n",
    "# Write a Python function to print the even numbers from a given list.\n",
    "\n",
    "numbersList = [2, 3, 10, 32, 5332, 32, 45, 124]\n",
    "\n",
    "def evenNumberFinder(numbersList):\n",
    "    evenNumbersList = []\n",
    "    for number in numbersList:\n",
    "        if number % 2 == 0:\n",
    "            evenNumbersList.append(number)\n",
    "            \n",
    "    return evenNumbersList\n",
    "\n",
    "\n",
    "evenNumbersList = evenNumberFinder(numbersList)\n",
    "print(\"List of Even Number\\n--------------------------\")\n",
    "print(evenNumbersList)"
   ]
  },
  {
   "cell_type": "code",
   "execution_count": 1,
   "metadata": {},
   "outputs": [
    {
     "name": "stdout",
     "output_type": "stream",
     "text": [
      "Palindrome Finding\n",
      "-------------------\n",
      "LEVEL is Palindrome!\n",
      "GOOD isn't Palindrome!\n",
      "AMMA is Palindrome!\n"
     ]
    }
   ],
   "source": [
    "# Question #4\n",
    "# Write a Python function that checks whether a passed string is palindrome or not.\n",
    "# Note: A palindrome is a word, phrase, or sequence that reads the same\n",
    "# backward as forward, e.g., madam\n",
    "\n",
    "def isPalindrome(string):\n",
    "    reverseString = string[::-1]\n",
    "    if string == reverseString:\n",
    "        return True\n",
    "    return False\n",
    "\n",
    "print(\"Palindrome Finding\\n-------------------\")\n",
    "stringsList = [\"LEVEL\", \"GOOD\", \"AMMA\"]\n",
    "for string in stringsList:\n",
    "    if isPalindrome(string) == True:\n",
    "        print(\"{} is Palindrome!\".format(string))\n",
    "    else:\n",
    "        print(\"{} isn't Palindrome!\".format(string))"
   ]
  },
  {
   "cell_type": "code",
   "execution_count": 5,
   "metadata": {},
   "outputs": [
    {
     "name": "stdout",
     "output_type": "stream",
     "text": [
      "Prime Number Finding\n",
      "----------------------\n",
      "2 is Prime Number\n",
      "3 is Prime Number\n",
      "5 is Prime Number\n",
      "7 is Prime Number\n",
      "12 isn't Prime Number\n",
      "13 is Prime Number\n",
      "17 is Prime Number\n",
      "19 is Prime Number\n",
      "213 isn't Prime Number\n"
     ]
    }
   ],
   "source": [
    "# Question #5\n",
    "# Write a Python function that takes a number as a parameter and check the number is prime or not.\n",
    " \n",
    "numberList = [2, 3, 5, 7, 12, 13, 17, 19, 213]\n",
    "def primeNumberFinder(number):\n",
    "    if number > 1:\n",
    "        for x in range(2, number):\n",
    "            if number % x == 0:\n",
    "                return False\n",
    "        \n",
    "        return True\n",
    "        \n",
    "print(\"Prime Number Finding\\n----------------------\")\n",
    "for number in numberList:\n",
    "    if primeNumberFinder(number) == True:\n",
    "        print(\"{} is Prime Number\".format(number))\n",
    "    else:\n",
    "        print(\"{} isn't Prime Number\".format(number))"
   ]
  },
  {
   "cell_type": "code",
   "execution_count": 6,
   "metadata": {},
   "outputs": [
    {
     "name": "stdout",
     "output_type": "stream",
     "text": [
      "Shopping List\n",
      "---------------\n",
      "Rice\n",
      "Eggs\n",
      "Almonds\n",
      "Bread\n",
      "Jem\n"
     ]
    }
   ],
   "source": [
    "# Question #6\n",
    "# Suppose a customer is shopping in a market and you need to print all the items\n",
    "# which user bought from market.\n",
    "# Write a function which accepts the multiple arguments of user shopping list and\n",
    "# print all the items which user bought from market.\n",
    "\n",
    "def shopingList(*products):\n",
    "    for product in products:\n",
    "        print(product)\n",
    "\n",
    "print(\"Shopping List\\n---------------\")\n",
    "shopingList(\"Rice\", \"Eggs\", \"Almonds\", \"Bread\", \"Jem\")"
   ]
  }
 ],
 "metadata": {
  "kernelspec": {
   "display_name": "Python 3",
   "language": "python",
   "name": "python3"
  },
  "language_info": {
   "codemirror_mode": {
    "name": "ipython",
    "version": 3
   },
   "file_extension": ".py",
   "mimetype": "text/x-python",
   "name": "python",
   "nbconvert_exporter": "python",
   "pygments_lexer": "ipython3",
   "version": "3.7.4"
  }
 },
 "nbformat": 4,
 "nbformat_minor": 2
}
