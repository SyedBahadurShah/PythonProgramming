{
 "cells": [
  {
   "cell_type": "markdown",
   "metadata": {},
   "source": [
    "### Python Programming - Assignment #2"
   ]
  },
  {
   "cell_type": "code",
   "execution_count": 35,
   "metadata": {},
   "outputs": [
    {
     "name": "stdout",
     "output_type": "stream",
     "text": [
      "Enter Student Name : Syed Bahadur Shah\n",
      "\n",
      "\n",
      "--------------------------------\n",
      "\tSubject: Islamiyat\n",
      "--------------------------------\n",
      "Enter Islamiyat's Total Marks:\t100\n",
      "Enter Islamiyat's Obtain Marks:\t100\n",
      "\n",
      "\n",
      "--------------------------------\n",
      "\tSubject: English\n",
      "--------------------------------\n",
      "Enter English's Total Marks:\t100\n",
      "Enter English's Obtain Marks:\t100\n",
      "\n",
      "\n",
      "--------------------------------\n",
      "\tSubject: Sindhi\n",
      "--------------------------------\n",
      "Enter Sindhi's Total Marks:\t100\n",
      "Enter Sindhi's Obtain Marks:\t100\n",
      "\n",
      "\n",
      "--------------------------------\n",
      "\tSubject: Science\n",
      "--------------------------------\n",
      "Enter Science's Total Marks:\t100\n",
      "Enter Science's Obtain Marks:\t100\n",
      "\n",
      "\n",
      "--------------------------------\n",
      "\tSubject: Drawing\n",
      "--------------------------------\n",
      "Enter Drawing's Total Marks:\t100\n",
      "Enter Drawing's Obtain Marks:\t100\n",
      "\n",
      "\n",
      "================================================================================\n",
      "\t\t\tBahadur Academy - Marksheet\n",
      "================================================================================\n",
      "\t\t\tStudent Name:  Syed Bahadur Shah\n",
      "================================================================================\n",
      "Subject Name\t\tTotal Marks\t\tObtain Marks\t\tGrade\n",
      "--------------------------------------------------------------------------------\n",
      "Islamiyat  \t\t 100 \t\t\t 100.0 \t\t\t A+\n",
      "--------------------------------------------------------------------------------\n",
      "English  \t\t 100 \t\t\t 100.0 \t\t\t A+\n",
      "--------------------------------------------------------------------------------\n",
      "Sindhi  \t\t 100 \t\t\t 100.0 \t\t\t A+\n",
      "--------------------------------------------------------------------------------\n",
      "Science  \t\t 100 \t\t\t 100.0 \t\t\t A+\n",
      "--------------------------------------------------------------------------------\n",
      "Drawing  \t\t 100 \t\t\t 100.0 \t\t\t A+\n",
      "--------------------------------------------------------------------------------\n"
     ]
    }
   ],
   "source": [
    "# Task #1 - Marksheet Generator\n",
    "\n",
    "def gradesFinder(percentage):\n",
    "    grade = ''\n",
    "    if percentage >= 80:\n",
    "        grade = 'A+'\n",
    "    elif percentage >= 70:\n",
    "        grade = 'A'\n",
    "    elif percentage >= 60:\n",
    "        grade = 'B'\n",
    "    else:\n",
    "        grade = 'Fail'\n",
    "    \n",
    "    return grade\n",
    "\n",
    "def percentageFinder(obtainMarks, totalMarks):\n",
    "    return float((obtainMarks / totalMarks) * 100)\n",
    "    \n",
    "subjectsList = ['Islamiyat', 'English', 'Sindhi', 'Science', 'Drawing']\n",
    "marksheetData = []\n",
    "\n",
    "studentName = input('Enter Student Name : ')\n",
    "print(\"\\n\")\n",
    "\n",
    "for subject in subjectsList:\n",
    "    print(\"--------------------------------\")\n",
    "    print('\\tSubject: ' + subject)\n",
    "    print(\"--------------------------------\")\n",
    "    totalMarks = int(input('Enter ' + subject + '\\'s Total Marks:\\t'))\n",
    "    obtainMarks = float(input('Enter ' + subject + '\\'s Obtain Marks:\\t'))\n",
    "    print('\\n') \n",
    "    percentage = percentageFinder(obtainMarks, totalMarks)\n",
    "    grade = gradesFinder(percentage)\n",
    "    marksheetData.append([subject, totalMarks, obtainMarks, grade])\n",
    "\n",
    "print(\"================================================================================\")\n",
    "print(\"\\t\\t\\tBahadur Academy - Marksheet\")    \n",
    "print(\"================================================================================\")\n",
    "print(\"\\t\\t\\tStudent Name: \", studentName)\n",
    "print(\"================================================================================\")\n",
    "print(\"Subject Name\\t\\tTotal Marks\\t\\tObtain Marks\\t\\tGrade\")\n",
    "print(\"--------------------------------------------------------------------------------\")\n",
    "for data in marksheetData:\n",
    "    print(str(data[0]), \" \\t\\t\", str(data[1]), \"\\t\\t\\t\", str(data[2]), \"\\t\\t\\t\", str(data[3]))\n",
    "    print(\"--------------------------------------------------------------------------------\")"
   ]
  },
  {
   "cell_type": "code",
   "execution_count": 36,
   "metadata": {},
   "outputs": [
    {
     "name": "stdout",
     "output_type": "stream",
     "text": [
      "Enter Any Number: 100\n",
      "Your Number  100  is  Even\n"
     ]
    }
   ],
   "source": [
    "# Task #2 - Identify that the given number is Even or Odd!\n",
    "\n",
    "def EvenOddFinder(number):\n",
    "    if number % 2 ==0:\n",
    "        return 'Even'\n",
    "    else:\n",
    "        return 'Odd'\n",
    "\n",
    "number = int(input(\"Enter Any Number: \"))\n",
    "print(\"Your Number \", number, \" is \", EvenOddFinder(number))"
   ]
  },
  {
   "cell_type": "code",
   "execution_count": 38,
   "metadata": {},
   "outputs": [
    {
     "name": "stdout",
     "output_type": "stream",
     "text": [
      "Length of Items in 'programmingLanguagesList' :  6\n"
     ]
    }
   ],
   "source": [
    "# Task #3 - Length of Items in List\n",
    "\n",
    "programmingLanguagesList = ['Python', 'PHP', 'Javascript', 'Java', 'React', 'Angular']\n",
    "print(\"Length of Items in 'programmingLanguagesList' : \", len(programmingLanguagesList))"
   ]
  },
  {
   "cell_type": "code",
   "execution_count": 39,
   "metadata": {},
   "outputs": [
    {
     "name": "stdout",
     "output_type": "stream",
     "text": [
      "Sum of Numbers in 'totalExpenseList' :  1994\n"
     ]
    }
   ],
   "source": [
    "# Task #4 - Sum of Numbers in List!\n",
    "\n",
    "totalExpenseList = [819, 23, 212, 231, 633, 76]\n",
    "print(\"Sum of Numbers in 'totalExpenseList' : \", sum(totalExpenseList))"
   ]
  },
  {
   "cell_type": "code",
   "execution_count": 40,
   "metadata": {},
   "outputs": [
    {
     "name": "stdout",
     "output_type": "stream",
     "text": [
      "Max Number in 'internetSpeedList' :  100\n"
     ]
    }
   ],
   "source": [
    "# Task #5 - Max Number in List!\n",
    "\n",
    "internetSpeedList = [2, 10, 12, 9, 1, 100, 32]\n",
    "print(\"Max Number in 'internetSpeedList' : \", max(internetSpeedList))"
   ]
  },
  {
   "cell_type": "code",
   "execution_count": 41,
   "metadata": {},
   "outputs": [
    {
     "name": "stdout",
     "output_type": "stream",
     "text": [
      "============================\n",
      "List of Products Under $5\n",
      "============================\n",
      "\n",
      "Product Price : $3\n",
      "Product Price : $4\n",
      "Product Price : $2\n"
     ]
    }
   ],
   "source": [
    "# Task #6 - Print List Number Less Than 5!\n",
    "\n",
    "productsPriceList = [3, 9, 4, 6, 22, 12, 112, 65, 21, 5, 2]\n",
    "print(\"============================\\nList of Products Under $5\\n============================\\n\")\n",
    "for productPrice in productsPriceList:\n",
    "    if productPrice < 5:\n",
    "        print(\"Product Price : $\" + str(productPrice))"
   ]
  }
 ],
 "metadata": {
  "kernelspec": {
   "display_name": "Python 3",
   "language": "python",
   "name": "python3"
  },
  "language_info": {
   "codemirror_mode": {
    "name": "ipython",
    "version": 3
   },
   "file_extension": ".py",
   "mimetype": "text/x-python",
   "name": "python",
   "nbconvert_exporter": "python",
   "pygments_lexer": "ipython3",
   "version": "3.7.4"
  }
 },
 "nbformat": 4,
 "nbformat_minor": 2
}
