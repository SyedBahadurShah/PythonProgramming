{
 "cells": [
  {
   "cell_type": "markdown",
   "metadata": {},
   "source": [
    "<h1>Python Programming - Assignment #6</h1>"
   ]
  },
  {
   "cell_type": "markdown",
   "metadata": {},
   "source": [
    "<h1>Question #1 - Define Object Oriented Programming Language?</h1>\n",
    "\n",
    "<p>Object-oriented programming is a method of programming where a system is considered as a collection of objects that interact together to accomplish specific tasks. The primary purpose of object-oriented programming is to simplify the design, programming, and, most importantly, debugging a program. So to modify a particular data, it is easy to identify which function to use.</p>\n",
    "\n",
    "<h3>Concepts in OOP:</h3>\n",
    "<ul>\n",
    "    <li>Class</li>\n",
    "    <li>Object</li>\n",
    "    <li>Inheritance</li>\n",
    "    <li>Polymorphism</li>\n",
    "    <li>Abstraction</li>\n",
    "    <li>Encapsulation</li>\n",
    "</ul>"
   ]
  },
  {
   "cell_type": "markdown",
   "metadata": {},
   "source": [
    "<h1>Question #2 - List down the Benefits of OOP</h1>\n",
    "<ul>\n",
    "    <li>Code reuse & recycling</li>\n",
    "    <li>Improved readability  of code</li>\n",
    "    <li>Modeled with the real world well</li>\n",
    "    <li>Improved software maintainability</li> \n",
    "    <li>Improved software-development productivity</li> \n",
    "    <li>Improved scalability of software development processes</li>\n",
    "    <li>Lower cost of development</li>\n",
    "    <li>Higher-quality software</li>\n",
    "    <li>Faster development</li>\n",
    "    <li>Data encapsulation</li>\n",
    "</ul>"
   ]
  },
  {
   "cell_type": "markdown",
   "metadata": {},
   "source": [
    "<h1>Question #3 - Differentiate between function and method?</h1>"
   ]
  },
  {
   "cell_type": "markdown",
   "metadata": {},
   "source": [
    "<h4>Function</h4>\n",
    "<p>A function is a block of code to carry out a specific task, will contain its own scope and is called by name. All functions may contain zero(no) arguments or more than one arguments. On exit, a function can or can not return one or more values.</p>\n",
    "\n",
    "\n",
    "<h4>Method</h4>\n",
    "<p>A method in python is somewhat similar to a function, except it is associated with object/classes. Methods in python are very similar to functions except for two major differences.</p>\n",
    "\n",
    "<ul>\n",
    "    <li>The method is implicitly used for an object for which it is called.</li>\n",
    "    <li>The method is accessible to data that is contained within the class.</li>\n",
    "</ul>"
   ]
  },
  {
   "cell_type": "markdown",
   "metadata": {},
   "source": [
    "<h1>Question #4 - Define the following terms:</h1>\n",
    "<ul>\n",
    "    <li>1. Class</li>\n",
    "    <li>2. Object</li>\n",
    "    <li>3. Attribute</li>\n",
    "    <li>4. Behavior</li>\n",
    "</ul>\n",
    "<h3>1. Class</h3>\n",
    "<p>A class describes the contents of the objects that belong to it; it represents an aggregate of data fields (called instance variables) and defines the operations (called methods).</p>\n",
    "\n",
    "<h3>2. Object</h3>\n",
    "<p>An object is an element (or instance) of a class; objects have the behaviors of their class. The object is the actual component of programs, while the class specifies how instances are created and how they behave.</p>\n",
    "\n",
    "<h3>3. Attribute</h3>\n",
    "<p>In object-oriented programming, classes and objects have attributes. Attributes are data stored inside a class or instance and represent the state or quality of the class or instance. In short, attributes store information about the instance.</p>\n",
    "\n",
    "<h3>4. Behavior</h3>\n",
    "<p>The term \"behavior\" refers to how objects interact with each other, and it is defined by the operations an object can perform.</p>"
   ]
  },
  {
   "cell_type": "markdown",
   "metadata": {},
   "source": [
    "<h1>Question #5 - Write a code in python in which create a class named it Car, which has 5 attributes such as (model, color, and name, etc.) and three methods. And create five object instance from that class.</h1>"
   ]
  },
  {
   "cell_type": "code",
   "execution_count": 12,
   "metadata": {},
   "outputs": [
    {
     "name": "stdout",
     "output_type": "stream",
     "text": [
      "Car Model: Honda City\n",
      "Car Color: Red\n",
      "Car Price: Honda City 2019\n"
     ]
    }
   ],
   "source": [
    "# Class \n",
    "class Car():\n",
    "    \n",
    "    # Class Instance Method\n",
    "    def __init__(self, model, color, name, price, fuelType):\n",
    "        \n",
    "        # Class Attributes\n",
    "        self.model = model\n",
    "        self.color = color\n",
    "        self.name = name\n",
    "        self.price = price\n",
    "        self.fuelType = fuelType\n",
    "    \n",
    "    # Class Method getCarModel()\n",
    "    def getCarModel(self):\n",
    "        return self.model\n",
    "    \n",
    "    # Class Method getCarColor()\n",
    "    def getCarColor(self):\n",
    "        return self.color\n",
    "    \n",
    "    # Class Method getCarPrice()\n",
    "    def getCarPrice(self):\n",
    "        return self.price\n",
    "    \n",
    "# Calling Instance Method of Car Class\n",
    "bahadurCar = Car(\"Honda City\", \"Red\", \"Rs. 14.31 Lakh\", \"Honda City 2019\", \"Petrol and Diesel\")\n",
    "\n",
    "# Calling Methods of Class\n",
    "carModel = bahadurCar.getCarModel()\n",
    "carColor = bahadurCar.getCarColor()\n",
    "carPrice = bahadurCar.getCarPrice()\n",
    "\n",
    "# Printing Returned Result of Class Methods\n",
    "print(\"Car Model:\", carModel)\n",
    "print(\"Car Color:\", carColor)\n",
    "print(\"Car Price:\", carPrice)"
   ]
  },
  {
   "cell_type": "code",
   "execution_count": null,
   "metadata": {},
   "outputs": [],
   "source": []
  }
 ],
 "metadata": {
  "kernelspec": {
   "display_name": "Python 3",
   "language": "python",
   "name": "python3"
  },
  "language_info": {
   "codemirror_mode": {
    "name": "ipython",
    "version": 3
   },
   "file_extension": ".py",
   "mimetype": "text/x-python",
   "name": "python",
   "nbconvert_exporter": "python",
   "pygments_lexer": "ipython3",
   "version": "3.7.4"
  }
 },
 "nbformat": 4,
 "nbformat_minor": 2
}
