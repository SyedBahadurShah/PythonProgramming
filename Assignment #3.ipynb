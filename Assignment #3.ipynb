{
 "cells": [
  {
   "cell_type": "markdown",
   "metadata": {},
   "source": [
    "### Python Programming - Assignment #3"
   ]
  },
  {
   "cell_type": "code",
   "execution_count": 59,
   "metadata": {},
   "outputs": [
    {
     "name": "stdout",
     "output_type": "stream",
     "text": [
      "Plus: 30\n",
      "Minus: 10\n",
      "Multiply: 200\n",
      "Divide: 2.0\n",
      "Power: 10240000000000\n"
     ]
    }
   ],
   "source": [
    "# Task #1 - Calculator in Python\n",
    "\n",
    "def calculator(numberOne, numberTwo, operator):\n",
    "    validOperators = [\"+\", \"-\", \"*\", \"/\", \"%\", \"^\"]\n",
    "    if operator not in validOperators:\n",
    "        return \"Invalid Operator!\"\n",
    "    \n",
    "    if ((type(numberOne) == str or type(numberTwo) == str)):\n",
    "        return \"String Not Supported!\"\n",
    "    \n",
    "    if operator is \"+\":\n",
    "        return numberOne + numberTwo\n",
    "    elif operator is \"-\":\n",
    "        return numberOne - numberTwo\n",
    "    elif operator is \"*\":\n",
    "        return numberOne * numberTwo    \n",
    "    elif operator is \"/\":\n",
    "        return numberOne / numberTwo\n",
    "    elif operator is \"^\":\n",
    "        return numberOne ** numberTwo\n",
    "    else:\n",
    "        return False\n",
    "\n",
    "print(\"Plus:\", calculator(20, 10, '+')) # Plus\n",
    "print(\"Minus:\", calculator(20, 10, '-')) # Minus\n",
    "print(\"Multiply:\", calculator(20, 10, '*')) # Multiply\n",
    "print(\"Divide:\", calculator(20, 10, '/')) # Divide\n",
    "print(\"Power:\", calculator(20, 10, '^')) # Power"
   ]
  },
  {
   "cell_type": "code",
   "execution_count": 60,
   "metadata": {},
   "outputs": [
    {
     "name": "stdout",
     "output_type": "stream",
     "text": [
      "listX Doesn't Contain Numeric Values!\n",
      "listY Contain Numeric Values!\n",
      "listZ Contain Numeric Values!\n"
     ]
    }
   ],
   "source": [
    "# Task #2 - Numeric Value Finder\n",
    "\n",
    "def isNumeric(listX):\n",
    "    for x in listX:\n",
    "        if type(x) == int or type(x) == float:\n",
    "            return True\n",
    "    return False\n",
    "\n",
    "# Example #1 - Without Numberic Values (Just String)!\n",
    "listX = ['Syed', 'Bahadur', 'Shah']\n",
    "if isNumeric(listX):\n",
    "    print(\"listX Contain Numeric Values!\")\n",
    "else:\n",
    "    print(\"listX Doesn't Contain Numeric Values!\")\n",
    "\n",
    "# Example #2 - With Numberic Values (Strings and Integers)!\n",
    "listY = ['Syed', 'Bahadur', 'Shah', 23, 232, 53]\n",
    "if isNumeric(listY):\n",
    "    print(\"listY Contain Numeric Values!\")\n",
    "else:\n",
    "    print(\"listY Doesn't Contain Numeric Values!\")\n",
    "    \n",
    "# Example #3 - With Numberic Values (Strings, Integer and Float)!\n",
    "listZ = ['Syed', 'Bahadur', 'Shah', 23, 2.2, 53, 12.3, 74.2]\n",
    "if isNumeric(listZ):\n",
    "    print(\"listZ Contain Numeric Values!\")\n",
    "else:\n",
    "    print(\"listZ Doesn't Contain Numeric Values!\")"
   ]
  },
  {
   "cell_type": "code",
   "execution_count": 61,
   "metadata": {},
   "outputs": [
    {
     "name": "stdout",
     "output_type": "stream",
     "text": [
      "Key 'python' Added to Dictionary:  {'python': ''}\n"
     ]
    }
   ],
   "source": [
    "# Task #3 - Add Key to Dictionary!\n",
    "\n",
    "def addKey(key, dictionary):\n",
    "    dictionary.update({key : ''})  # Why is Added Value with Key, Because Only Key is Not Dictionary Itself, But Set!\n",
    "    return dictionary # Returning Dictionary After Inserting Key in it!\n",
    "\n",
    "dictionary = {}\n",
    "key = \"python\"\n",
    "\n",
    "print(\"Key 'python' Added to Dictionary: \", addKey(key, dictionary))"
   ]
  },
  {
   "cell_type": "code",
   "execution_count": 62,
   "metadata": {},
   "outputs": [
    {
     "name": "stdout",
     "output_type": "stream",
     "text": [
      "istX Sum:  2769.83\n"
     ]
    }
   ],
   "source": [
    "# Task #4 - List Sum Up!\n",
    "\n",
    "def listSumUp(listX):\n",
    "    return sum(listX)\n",
    "\n",
    "listX = [12, 23, 43.43, 23.3, 2.1, 23, 2356, 223, 64]\n",
    "print(\"istX Sum: \", listSumUp(listX))"
   ]
  },
  {
   "cell_type": "code",
   "execution_count": 63,
   "metadata": {},
   "outputs": [
    {
     "name": "stdout",
     "output_type": "stream",
     "text": [
      "Duplicate Values in listX : ['Bahadur', 786]\n"
     ]
    }
   ],
   "source": [
    "# Task #5 - Duplicate Value Finder from List!\n",
    "\n",
    "def duplicateFinder(listX):\n",
    "    uniqueValues = set(listX)\n",
    "    duplicateValues = []\n",
    "    for x in listX:\n",
    "        if listX.count(x) > 1 and x not in duplicateValues:\n",
    "            duplicateValues.append(x)\n",
    "    return duplicateValues\n",
    "\n",
    "listX = [\"Bahadur\", \"Bahadur\", \"Syed\", \"Bahadur\", \"Shah\", 786, 786, 123, 786, 23.2]\n",
    "print(\"Duplicate Values in listX :\", duplicateFinder(listX))"
   ]
  },
  {
   "cell_type": "code",
   "execution_count": 64,
   "metadata": {},
   "outputs": [
    {
     "name": "stdout",
     "output_type": "stream",
     "text": [
      "No!, Key 'age' Doesn't Exist in 'dictionaryX'\n"
     ]
    }
   ],
   "source": [
    "# Task #6 - Key Existence Checking in Dictionary!\n",
    "def isKey(keyX, dictionaryX):\n",
    "    if keyX in dictionaryX.keys():\n",
    "        return True\n",
    "    return False\n",
    "\n",
    "keyX = \"age\"\n",
    "dictionaryX = {\"name\" : \"Syed Bahadur Shah\", \"passion\" : \"Programming\"}\n",
    "if isKey(keyX, dictionaryX):\n",
    "    print(\"Yes!, Key '{}' Exist in 'dictionaryX'\".format(keyX))\n",
    "else:\n",
    "    print(\"No!, Key '{}' Doesn't Exist in 'dictionaryX'\".format(keyX))"
   ]
  }
 ],
 "metadata": {
  "kernelspec": {
   "display_name": "Python 3",
   "language": "python",
   "name": "python3"
  },
  "language_info": {
   "codemirror_mode": {
    "name": "ipython",
    "version": 3
   },
   "file_extension": ".py",
   "mimetype": "text/x-python",
   "name": "python",
   "nbconvert_exporter": "python",
   "pygments_lexer": "ipython3",
   "version": "3.7.4"
  }
 },
 "nbformat": 4,
 "nbformat_minor": 2
}
