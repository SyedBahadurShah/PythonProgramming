{
 "cells": [
  {
   "cell_type": "markdown",
   "metadata": {},
   "source": [
    "### Python Programming - Assignment #1 "
   ]
  },
  {
   "cell_type": "code",
   "execution_count": 8,
   "metadata": {},
   "outputs": [
    {
     "name": "stdout",
     "output_type": "stream",
     "text": [
      "\n",
      "Twinkle, twinkle, little star,\n",
      "    How I wonder what you are!\n",
      "        Up above the world so high,\n",
      "        Like a diamond in the sky.\n",
      "Twinkle, twinkle, little star,\n",
      "    How I wonder what you are\n",
      "\n"
     ]
    }
   ],
   "source": [
    "# Tast #1 - Print String in a Specified Format!\n",
    "\n",
    "print(\"\"\"\n",
    "Twinkle, twinkle, little star,\n",
    "    How I wonder what you are!\n",
    "        Up above the world so high,\n",
    "        Like a diamond in the sky.\n",
    "Twinkle, twinkle, little star,\n",
    "    How I wonder what you are\n",
    "\"\"\")"
   ]
  },
  {
   "cell_type": "code",
   "execution_count": 9,
   "metadata": {},
   "outputs": [
    {
     "name": "stdout",
     "output_type": "stream",
     "text": [
      "Python Version : 3.7.4\n"
     ]
    }
   ],
   "source": [
    "# Tast #2 - Get Current Running Version of Python!\n",
    "\n",
    "import sys\n",
    "version = sys.version_info\n",
    "major = version[0]\n",
    "minor = version[1]\n",
    "micro = version[2]\n",
    "print('Python Version : ' + str(major) + '.' + str(minor) + '.' + str(micro))"
   ]
  },
  {
   "cell_type": "code",
   "execution_count": 10,
   "metadata": {},
   "outputs": [
    {
     "name": "stdout",
     "output_type": "stream",
     "text": [
      "Current Date & Time : 11/17/2019 18:35:58\n"
     ]
    }
   ],
   "source": [
    "# Tast #3 - Get Current Date & Time\n",
    "\n",
    "from datetime import datetime\n",
    "now = datetime.now()\n",
    "currentDateTime = now.strftime(\"%m/%d/%Y %H:%M:%S\")\n",
    "print('Current Date & Time : ' + currentDateTime)"
   ]
  },
  {
   "cell_type": "code",
   "execution_count": 11,
   "metadata": {},
   "outputs": [
    {
     "name": "stdout",
     "output_type": "stream",
     "text": [
      "Input Circle Radius: 19\n",
      "Area of Cirle : 1134.11399\n"
     ]
    }
   ],
   "source": [
    "# Tast #4 - Calculate Circle Area by Getting \"Circle Radius\"!\n",
    "\n",
    "def circleArea(radius):\n",
    "    pie = 3.14159\n",
    "    area = pie * pow(radius, 2)\n",
    "    return area\n",
    "\n",
    "radius = float(input(\"Input Circle Radius: \"))\n",
    "circlArea = str(circleArea(radius))\n",
    "print(\"Area of Cirle : \" + circlArea)"
   ]
  },
  {
   "cell_type": "code",
   "execution_count": null,
   "metadata": {},
   "outputs": [],
   "source": [
    "# Tast #5 - Reverse First & Last Name with Space\n",
    "\n",
    "firstName = input(\"First Name: \")\n",
    "lastName = input(\"Last Name: \")\n",
    "print(lastName, firstName)"
   ]
  },
  {
   "cell_type": "code",
   "execution_count": 12,
   "metadata": {},
   "outputs": [
    {
     "name": "stdout",
     "output_type": "stream",
     "text": [
      "First Number: 10\n",
      "Second Number: 20\n",
      "Addition of Frist & Second Number: 30.0\n"
     ]
    }
   ],
   "source": [
    "# Tast #6 - Addition of Two Numbers!\n",
    "\n",
    "firstNumber = float(input(\"First Number: \"))\n",
    "secondNumber = float(input(\"Second Number: \"))\n",
    "addition = firstNumber + secondNumber\n",
    "print(\"Addition of Frist & Second Number: \" + str(addition))"
   ]
  },
  {
   "cell_type": "code",
   "execution_count": null,
   "metadata": {},
   "outputs": [],
   "source": []
  }
 ],
 "metadata": {
  "kernelspec": {
   "display_name": "Python 3",
   "language": "python",
   "name": "python3"
  },
  "language_info": {
   "codemirror_mode": {
    "name": "ipython",
    "version": 3
   },
   "file_extension": ".py",
   "mimetype": "text/x-python",
   "name": "python",
   "nbconvert_exporter": "python",
   "pygments_lexer": "ipython3",
   "version": "3.7.4"
  }
 },
 "nbformat": 4,
 "nbformat_minor": 2
}
